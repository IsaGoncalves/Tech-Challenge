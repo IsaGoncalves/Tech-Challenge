{
 "cells": [
  {
   "cell_type": "code",
   "execution_count": null,
   "id": "6190d01c",
   "metadata": {},
   "outputs": [],
   "source": [
    "contador = 0\n",
    "expressao = str(input(\"Digite a expressão desejada: \"))\n",
    "\n",
    "for p in expressao:\n",
    "    \n",
    "    if p == \"(\":\n",
    "        contador += 1\n",
    "        \n",
    "    elif p == \")\":\n",
    "        contador -= 1\n",
    "        \n",
    "    if contador < 0:\n",
    "        break\n",
    "            \n",
    "if contador == 0:\n",
    "    print(\"correct\")\n",
    "    \n",
    "else:\n",
    "    print(\"incorrect\")"
   ]
  }
 ],
 "metadata": {
  "kernelspec": {
   "display_name": "Python 3",
   "language": "python",
   "name": "python3"
  },
  "language_info": {
   "codemirror_mode": {
    "name": "ipython",
    "version": 3
   },
   "file_extension": ".py",
   "mimetype": "text/x-python",
   "name": "python",
   "nbconvert_exporter": "python",
   "pygments_lexer": "ipython3",
   "version": "3.8.8"
  }
 },
 "nbformat": 4,
 "nbformat_minor": 5
}
